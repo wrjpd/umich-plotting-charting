{
 "cells": [
  {
   "cell_type": "markdown",
   "id": "2d9b8971",
   "metadata": {},
   "source": [
    "# Heatmap"
   ]
  },
  {
   "cell_type": "markdown",
   "id": "02f5b532",
   "metadata": {},
   "source": [
    "Heatmaps são um jeito de visualizar 3 dimensões de dados e aproveitar a proximidade espacial dessas dimensões.\n",
    "\n",
    "Heatsmaps são poderosos quando temos os dados certos. Dados de clima por exemplo: temos duas dimensões, latitude e longitude,e podemos sobrepor uma terceira,digamos a temperatura.\n",
    "\n",
    "Mas há onde os heatmaps falham, que é quando não há relação contínua entre as dimensões. Isso induz o espectador a procurar padrões e ordenarpor meio da proximidade espacial.\n",
    "\n",
    "No matplotlib, heatmaps são simplesmente histogramas 2d onde os valores de x e y indicam pontos potenciais e a cor observada é a frequência.\n"
   ]
  },
  {
   "cell_type": "code",
   "execution_count": 44,
   "id": "48b13827",
   "metadata": {},
   "outputs": [],
   "source": [
    "import matplotlib.pyplot as plt\n",
    "import numpy as np\n",
    "import pandas as pd\n",
    "from datetime import datetime"
   ]
  },
  {
   "cell_type": "code",
   "execution_count": 3,
   "id": "142db0cf",
   "metadata": {},
   "outputs": [
    {
     "data": {
      "text/html": [
       "<div>\n",
       "<style scoped>\n",
       "    .dataframe tbody tr th:only-of-type {\n",
       "        vertical-align: middle;\n",
       "    }\n",
       "\n",
       "    .dataframe tbody tr th {\n",
       "        vertical-align: top;\n",
       "    }\n",
       "\n",
       "    .dataframe thead th {\n",
       "        text-align: right;\n",
       "    }\n",
       "</style>\n",
       "<table border=\"1\" class=\"dataframe\">\n",
       "  <thead>\n",
       "    <tr style=\"text-align: right;\">\n",
       "      <th></th>\n",
       "      <th>Plaza ID</th>\n",
       "      <th>Date</th>\n",
       "      <th>Hour</th>\n",
       "      <th>Direction</th>\n",
       "      <th># Vehicles - E-ZPass</th>\n",
       "      <th># Vehicles - VToll</th>\n",
       "    </tr>\n",
       "  </thead>\n",
       "  <tbody>\n",
       "    <tr>\n",
       "      <th>0</th>\n",
       "      <td>21</td>\n",
       "      <td>2022-08-06</td>\n",
       "      <td>0</td>\n",
       "      <td>I</td>\n",
       "      <td>2820</td>\n",
       "      <td>649</td>\n",
       "    </tr>\n",
       "    <tr>\n",
       "      <th>1</th>\n",
       "      <td>21</td>\n",
       "      <td>2022-08-06</td>\n",
       "      <td>1</td>\n",
       "      <td>I</td>\n",
       "      <td>2124</td>\n",
       "      <td>474</td>\n",
       "    </tr>\n",
       "    <tr>\n",
       "      <th>2</th>\n",
       "      <td>21</td>\n",
       "      <td>2022-08-06</td>\n",
       "      <td>2</td>\n",
       "      <td>I</td>\n",
       "      <td>1617</td>\n",
       "      <td>391</td>\n",
       "    </tr>\n",
       "    <tr>\n",
       "      <th>3</th>\n",
       "      <td>21</td>\n",
       "      <td>2022-08-06</td>\n",
       "      <td>3</td>\n",
       "      <td>I</td>\n",
       "      <td>1228</td>\n",
       "      <td>358</td>\n",
       "    </tr>\n",
       "    <tr>\n",
       "      <th>4</th>\n",
       "      <td>21</td>\n",
       "      <td>2022-08-06</td>\n",
       "      <td>4</td>\n",
       "      <td>I</td>\n",
       "      <td>1604</td>\n",
       "      <td>368</td>\n",
       "    </tr>\n",
       "    <tr>\n",
       "      <th>...</th>\n",
       "      <td>...</td>\n",
       "      <td>...</td>\n",
       "      <td>...</td>\n",
       "      <td>...</td>\n",
       "      <td>...</td>\n",
       "      <td>...</td>\n",
       "    </tr>\n",
       "    <tr>\n",
       "      <th>1936271</th>\n",
       "      <td>11</td>\n",
       "      <td>2010-01-01</td>\n",
       "      <td>19</td>\n",
       "      <td>I</td>\n",
       "      <td>2675</td>\n",
       "      <td>1152</td>\n",
       "    </tr>\n",
       "    <tr>\n",
       "      <th>1936272</th>\n",
       "      <td>11</td>\n",
       "      <td>2010-01-01</td>\n",
       "      <td>20</td>\n",
       "      <td>I</td>\n",
       "      <td>2580</td>\n",
       "      <td>1086</td>\n",
       "    </tr>\n",
       "    <tr>\n",
       "      <th>1936273</th>\n",
       "      <td>11</td>\n",
       "      <td>2010-01-01</td>\n",
       "      <td>21</td>\n",
       "      <td>I</td>\n",
       "      <td>2302</td>\n",
       "      <td>987</td>\n",
       "    </tr>\n",
       "    <tr>\n",
       "      <th>1936274</th>\n",
       "      <td>11</td>\n",
       "      <td>2010-01-01</td>\n",
       "      <td>22</td>\n",
       "      <td>I</td>\n",
       "      <td>2170</td>\n",
       "      <td>910</td>\n",
       "    </tr>\n",
       "    <tr>\n",
       "      <th>1936275</th>\n",
       "      <td>11</td>\n",
       "      <td>2010-01-01</td>\n",
       "      <td>23</td>\n",
       "      <td>I</td>\n",
       "      <td>1837</td>\n",
       "      <td>706</td>\n",
       "    </tr>\n",
       "  </tbody>\n",
       "</table>\n",
       "<p>1936276 rows × 6 columns</p>\n",
       "</div>"
      ],
      "text/plain": [
       "         Plaza ID       Date  Hour Direction  # Vehicles - E-ZPass  \\\n",
       "0              21 2022-08-06     0         I                  2820   \n",
       "1              21 2022-08-06     1         I                  2124   \n",
       "2              21 2022-08-06     2         I                  1617   \n",
       "3              21 2022-08-06     3         I                  1228   \n",
       "4              21 2022-08-06     4         I                  1604   \n",
       "...           ...        ...   ...       ...                   ...   \n",
       "1936271        11 2010-01-01    19         I                  2675   \n",
       "1936272        11 2010-01-01    20         I                  2580   \n",
       "1936273        11 2010-01-01    21         I                  2302   \n",
       "1936274        11 2010-01-01    22         I                  2170   \n",
       "1936275        11 2010-01-01    23         I                  1837   \n",
       "\n",
       "         # Vehicles - VToll  \n",
       "0                       649  \n",
       "1                       474  \n",
       "2                       391  \n",
       "3                       358  \n",
       "4                       368  \n",
       "...                     ...  \n",
       "1936271                1152  \n",
       "1936272                1086  \n",
       "1936273                 987  \n",
       "1936274                 910  \n",
       "1936275                 706  \n",
       "\n",
       "[1936276 rows x 6 columns]"
      ]
     },
     "execution_count": 3,
     "metadata": {},
     "output_type": "execute_result"
    }
   ],
   "source": [
    "# Vamos ver alguns exemplos de dados de trânsito de Nova York\n",
    "df=pd.read_csv(\"../assets/NYC hourly traffic.csv\")\n",
    "\n",
    "# Vamos converter a coluna 'Date' para datetime\n",
    "df['Date']=df['Date'].apply(pd.to_datetime)\n",
    "df"
   ]
  },
  {
   "cell_type": "code",
   "execution_count": 19,
   "id": "986c064c",
   "metadata": {},
   "outputs": [
    {
     "data": {
      "text/html": [
       "<div>\n",
       "<style scoped>\n",
       "    .dataframe tbody tr th:only-of-type {\n",
       "        vertical-align: middle;\n",
       "    }\n",
       "\n",
       "    .dataframe tbody tr th {\n",
       "        vertical-align: top;\n",
       "    }\n",
       "\n",
       "    .dataframe thead th {\n",
       "        text-align: right;\n",
       "    }\n",
       "</style>\n",
       "<table border=\"1\" class=\"dataframe\">\n",
       "  <thead>\n",
       "    <tr style=\"text-align: right;\">\n",
       "      <th></th>\n",
       "      <th>Plaza ID</th>\n",
       "      <th>Date</th>\n",
       "      <th>Hour</th>\n",
       "      <th>Direction</th>\n",
       "      <th># Vehicles - E-ZPass</th>\n",
       "      <th># Vehicles - VToll</th>\n",
       "    </tr>\n",
       "  </thead>\n",
       "  <tbody>\n",
       "    <tr>\n",
       "      <th>735652</th>\n",
       "      <td>5</td>\n",
       "      <td>2017-04-29</td>\n",
       "      <td>0</td>\n",
       "      <td>I</td>\n",
       "      <td>216</td>\n",
       "      <td>25</td>\n",
       "    </tr>\n",
       "    <tr>\n",
       "      <th>735653</th>\n",
       "      <td>5</td>\n",
       "      <td>2017-04-29</td>\n",
       "      <td>0</td>\n",
       "      <td>O</td>\n",
       "      <td>100</td>\n",
       "      <td>23</td>\n",
       "    </tr>\n",
       "    <tr>\n",
       "      <th>735654</th>\n",
       "      <td>5</td>\n",
       "      <td>2017-04-29</td>\n",
       "      <td>1</td>\n",
       "      <td>I</td>\n",
       "      <td>111</td>\n",
       "      <td>21</td>\n",
       "    </tr>\n",
       "    <tr>\n",
       "      <th>735655</th>\n",
       "      <td>5</td>\n",
       "      <td>2017-04-29</td>\n",
       "      <td>1</td>\n",
       "      <td>O</td>\n",
       "      <td>53</td>\n",
       "      <td>18</td>\n",
       "    </tr>\n",
       "    <tr>\n",
       "      <th>735656</th>\n",
       "      <td>5</td>\n",
       "      <td>2017-04-29</td>\n",
       "      <td>2</td>\n",
       "      <td>I</td>\n",
       "      <td>72</td>\n",
       "      <td>16</td>\n",
       "    </tr>\n",
       "    <tr>\n",
       "      <th>...</th>\n",
       "      <td>...</td>\n",
       "      <td>...</td>\n",
       "      <td>...</td>\n",
       "      <td>...</td>\n",
       "      <td>...</td>\n",
       "      <td>...</td>\n",
       "    </tr>\n",
       "    <tr>\n",
       "      <th>773399</th>\n",
       "      <td>5</td>\n",
       "      <td>2016-12-31</td>\n",
       "      <td>21</td>\n",
       "      <td>O</td>\n",
       "      <td>234</td>\n",
       "      <td>54</td>\n",
       "    </tr>\n",
       "    <tr>\n",
       "      <th>773400</th>\n",
       "      <td>5</td>\n",
       "      <td>2016-12-31</td>\n",
       "      <td>22</td>\n",
       "      <td>I</td>\n",
       "      <td>180</td>\n",
       "      <td>46</td>\n",
       "    </tr>\n",
       "    <tr>\n",
       "      <th>773401</th>\n",
       "      <td>5</td>\n",
       "      <td>2016-12-31</td>\n",
       "      <td>22</td>\n",
       "      <td>O</td>\n",
       "      <td>177</td>\n",
       "      <td>40</td>\n",
       "    </tr>\n",
       "    <tr>\n",
       "      <th>773402</th>\n",
       "      <td>5</td>\n",
       "      <td>2016-12-31</td>\n",
       "      <td>23</td>\n",
       "      <td>I</td>\n",
       "      <td>126</td>\n",
       "      <td>30</td>\n",
       "    </tr>\n",
       "    <tr>\n",
       "      <th>773403</th>\n",
       "      <td>5</td>\n",
       "      <td>2016-12-31</td>\n",
       "      <td>23</td>\n",
       "      <td>O</td>\n",
       "      <td>143</td>\n",
       "      <td>37</td>\n",
       "    </tr>\n",
       "  </tbody>\n",
       "</table>\n",
       "<p>5760 rows × 6 columns</p>\n",
       "</div>"
      ],
      "text/plain": [
       "        Plaza ID       Date  Hour Direction  # Vehicles - E-ZPass  \\\n",
       "735652         5 2017-04-29     0         I                   216   \n",
       "735653         5 2017-04-29     0         O                   100   \n",
       "735654         5 2017-04-29     1         I                   111   \n",
       "735655         5 2017-04-29     1         O                    53   \n",
       "735656         5 2017-04-29     2         I                    72   \n",
       "...          ...        ...   ...       ...                   ...   \n",
       "773399         5 2016-12-31    21         O                   234   \n",
       "773400         5 2016-12-31    22         I                   180   \n",
       "773401         5 2016-12-31    22         O                   177   \n",
       "773402         5 2016-12-31    23         I                   126   \n",
       "773403         5 2016-12-31    23         O                   143   \n",
       "\n",
       "        # Vehicles - VToll  \n",
       "735652                  25  \n",
       "735653                  23  \n",
       "735654                  21  \n",
       "735655                  18  \n",
       "735656                  16  \n",
       "...                    ...  \n",
       "773399                  54  \n",
       "773400                  46  \n",
       "773401                  40  \n",
       "773402                  30  \n",
       "773403                  37  \n",
       "\n",
       "[5760 rows x 6 columns]"
      ]
     },
     "execution_count": 19,
     "metadata": {},
     "output_type": "execute_result"
    }
   ],
   "source": [
    "# Vamos dizer que estamos interassados em um único Plaza(camera location) e numa certa parte do tempo\n",
    "df[(df['Plaza ID']==5) & (df['Date']>'2016-12-30')  & (df['Date']<'2017-05-01') ]"
   ]
  },
  {
   "cell_type": "markdown",
   "id": "0c426c1c",
   "metadata": {},
   "source": [
    "Agora, vamos ver quantos carros passam em determinada hora do dia."
   ]
  },
  {
   "cell_type": "code",
   "execution_count": 26,
   "id": "317447b3",
   "metadata": {},
   "outputs": [
    {
     "data": {
      "image/png": "[encoded data removed]",
      "text/plain": [
       "<Figure size 640x480 with 1 Axes>"
      ]
     },
     "metadata": {},
     "output_type": "display_data"
    }
   ],
   "source": [
    "# Como temos 24 horas, faremos bins=24\n",
    "plt.hist(sample['Hour'],bins=24,weights=sample['# Vehicles - E-ZPass']);"
   ]
  },
  {
   "cell_type": "markdown",
   "id": "0fd2d6b5",
   "metadata": {},
   "source": [
    "Mas também temos dias da semana que estão ordenados. Vamos extrair o dia da semana e olhar o histograma."
   ]
  },
  {
   "cell_type": "code",
   "execution_count": 42,
   "id": "b3aff3ce",
   "metadata": {},
   "outputs": [
    {
     "name": "stderr",
     "output_type": "stream",
     "text": [
      "C:\\Users\\T-Gamer\\AppData\\Local\\Temp\\ipykernel_13344\\691009919.py:4: SettingWithCopyWarning: \n",
      "A value is trying to be set on a copy of a slice from a DataFrame.\n",
      "Try using .loc[row_indexer,col_indexer] = value instead\n",
      "\n",
      "See the caveats in the documentation: https://pandas.pydata.org/pandas-docs/stable/user_guide/indexing.html#returning-a-view-versus-a-copy\n",
      "  sample['Day of Week']= sample[\"Date\"].dt.dayofweek\n"
     ]
    }
   ],
   "source": [
    "# Podemos extrair o dia da semana da coluna Date usando atributos do Pandas.\n",
    "# O objeto Series tem um atributo \"dt\" que armazena transformações.\n",
    "\n",
    "sample['Day of Week']= sample[\"Date\"].dt.dayofweek"
   ]
  },
  {
   "cell_type": "code",
   "execution_count": 45,
   "id": "355f2503",
   "metadata": {},
   "outputs": [
    {
     "data": {
      "image/png": "[encoded data removed]",
      "text/plain": [
       "<Figure size 640x480 with 1 Axes>"
      ]
     },
     "metadata": {},
     "output_type": "display_data"
    }
   ],
   "source": [
    "plt.hist(sample[\"Day of Week\"],bins=7,weights=sample[\"# Vehicles - E-ZPass\"]);"
   ]
  },
  {
   "cell_type": "markdown",
   "id": "cbd4b490",
   "metadata": {},
   "source": [
    "Agora temos o tráfego durante os dias da semana.\n",
    "\n",
    "Podemos olhar esses dois histogramas juntos utilizando o heatmap"
   ]
  },
  {
   "cell_type": "code",
   "execution_count": 51,
   "id": "b25654f5",
   "metadata": {},
   "outputs": [],
   "source": [
    "plt.hist2d?"
   ]
  },
  {
   "cell_type": "code",
   "execution_count": 53,
   "id": "dfcb2b90",
   "metadata": {},
   "outputs": [
    {
     "data": {
      "text/plain": [
       "<matplotlib.colorbar.Colorbar at 0x1ce22a6c070>"
      ]
     },
     "execution_count": 53,
     "metadata": {},
     "output_type": "execute_result"
    },
    {
     "data": {
      "image/png": "[encoded data removed]",
      "text/plain": [
       "<Figure size 1200x800 with 2 Axes>"
      ]
     },
     "metadata": {},
     "output_type": "display_data"
    }
   ],
   "source": [
    "plt.figure(figsize=(12,8))\n",
    "plt.hist2d(sample[\"Hour\"],sample['Day of Week'],bins=[24,7],weights=sample[\"# Vehicles - E-ZPass\"]);\n",
    "\n",
    "plt.colorbar() # adiciona uma legenda das cores"
   ]
  },
  {
   "cell_type": "code",
   "execution_count": null,
   "id": "6dda34f2",
   "metadata": {},
   "outputs": [],
   "source": []
  }
 ],
 "metadata": {
  "kernelspec": {
   "display_name": "Python 3 (ipykernel)",
   "language": "python",
   "name": "python3"
  },
  "language_info": {
   "codemirror_mode": {
    "name": "ipython",
    "version": 3
   },
   "file_extension": ".py",
   "mimetype": "text/x-python",
   "name": "python",
   "nbconvert_exporter": "python",
   "pygments_lexer": "ipython3",
   "version": "3.10.8"
  }
 },
 "nbformat": 4,
 "nbformat_minor": 5
}
